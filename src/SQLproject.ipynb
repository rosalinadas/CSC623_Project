{
 "cells": [
  {
   "cell_type": "code",
   "execution_count": 1,
   "id": "d05d547d",
   "metadata": {},
   "outputs": [],
   "source": [
    "import sqlite3\n",
    "import pandas as pd"
   ]
  },
  {
   "cell_type": "code",
   "execution_count": 2,
   "id": "07e2048a",
   "metadata": {},
   "outputs": [],
   "source": [
    "# Connects to an existing database file in the current directory\n",
    "# If the file does not exist, it creates it in the current directory\n",
    "\n",
    "db_connect = sqlite3.connect('petsclinic.db')"
   ]
  },
  {
   "cell_type": "code",
   "execution_count": 3,
   "id": "de5ce81a",
   "metadata": {},
   "outputs": [],
   "source": [
    "# Instantiate cursor object for executing queries\n",
    "cursor = db_connect.cursor()"
   ]
  },
  {
   "cell_type": "code",
   "execution_count": 4,
   "id": "731ab510",
   "metadata": {},
   "outputs": [],
   "source": [
    "# String variable for passing queries to cursor\n",
    "query_clinic = \"\"\"\n",
    "    CREATE TABLE IF NOT EXISTS Clinic(\n",
    "    clinicNo INT,\n",
    "    cName VARCHAR(100) NOT NULL,\n",
    "    cAddress VARCHAR(100),\n",
    "    cPhone INT NOT NULL,\n",
    "    PRIMARY KEY(clinicNo)\n",
    "    );\n",
    "    \"\"\"\n",
    "\n",
    "query_staff = \"\"\"\n",
    "    CREATE TABLE IF NOT EXISTS Staff(\n",
    "    staffNo INT,\n",
    "    sName VARCHAR(100) NOT NULL,\n",
    "    sAddress VARCHAR(100),\n",
    "    sPhone INT,\n",
    "    sDOB TEXT NOT NULL,\n",
    "    sPosition VARCHAR(100) NOT NULL,\n",
    "    salary INT NOT NULL,\n",
    "    clinicNo INT,\n",
    "    FOREIGN KEY (clinicNo) REFERENCES Clinic(clinicNo) ON UPDATE CASCADE ON DELETE SET NULL, \n",
    "    PRIMARY KEY(staffNo)\n",
    "    );\n",
    "    \"\"\"\n",
    "    \n",
    "query_owner = \"\"\"\n",
    "    CREATE TABLE IF NOT EXISTS PetOwner(\n",
    "    ownerNo INT,\n",
    "    oName VARCHAR(100) NOT NULL,\n",
    "    oAddress VARCHAR(100),\n",
    "    oPhone INT NOT NULL,\n",
    "    clinicNo INT,\n",
    "    PRIMARY KEY(ownerNo),\n",
    "    FOREIGN KEY (clinicNo) REFERENCES Clinic(clinicNo) ON UPDATE CASCADE ON DELETE SET NULL\n",
    "    );\n",
    "    \"\"\"\n",
    "\n",
    "query_pet = \"\"\"\n",
    "    CREATE TABLE IF NOT EXISTS Pet(\n",
    "    petNo INT,\n",
    "    pName VARCHAR(100) NOT NULL,\n",
    "    pDOB TEXT NOT NULL,\n",
    "    pSpecies VARCHAR(100),\n",
    "    pBreed VARCHAR(100),\n",
    "    pColor VARCHAR(100),\n",
    "    ownerNo INT,\n",
    "    clinicNo INT,\n",
    "    PRIMARY KEY(petNo),\n",
    "    FOREIGN KEY (clinicNo) REFERENCES Clinic(clinicNo) ON UPDATE CASCADE ON DELETE SET NULL,\n",
    "    FOREIGN KEY (ownerNo) REFERENCES PetOwner(ownerNo)  ON UPDATE CASCADE ON DELETE SET NULL\n",
    "    );\n",
    "    \"\"\"\n",
    "\n",
    "query_exam = \"\"\"\n",
    "    CREATE TABLE IF NOT EXISTS Examination(\n",
    "    examNo INT,\n",
    "    complaint VARCHAR(100),\n",
    "    description VARCHAR(100),\n",
    "    date TEXT NOT NULL,\n",
    "    action VARCHAR(100),\n",
    "    petNo INT,\n",
    "    staffNo INT,\n",
    "    PRIMARY KEY(examNo),\n",
    "    FOREIGN KEY (petNo) REFERENCES Pet(petNo) ON UPDATE CASCADE ON DELETE SET NULL,\n",
    "    FOREIGN KEY (staffNo) REFERENCES Staff(staffNo) ON UPDATE CASCADE ON DELETE SET NULL\n",
    "    );\n",
    "    \"\"\""
   ]
  },
  {
   "cell_type": "code",
   "execution_count": 5,
   "id": "d4ecc636",
   "metadata": {},
   "outputs": [
    {
     "data": {
      "text/plain": [
       "<sqlite3.Cursor at 0x2a89a584570>"
      ]
     },
     "execution_count": 5,
     "metadata": {},
     "output_type": "execute_result"
    }
   ],
   "source": [
    "# Execute query, the result is stored in cursor\n",
    "cursor.execute(query_clinic)\n",
    "cursor.execute(query_staff)\n",
    "cursor.execute(query_owner)\n",
    "cursor.execute(query_pet)\n",
    "cursor.execute(query_exam)"
   ]
  },
  {
   "cell_type": "code",
   "execution_count": 6,
   "id": "db5d6147",
   "metadata": {
    "scrolled": true
   },
   "outputs": [
    {
     "data": {
      "text/plain": [
       "<sqlite3.Cursor at 0x2a89a584570>"
      ]
     },
     "execution_count": 6,
     "metadata": {},
     "output_type": "execute_result"
    }
   ],
   "source": [
    "# Insert row into table Clinic\n",
    "query_clinic = \"\"\"\n",
    "    INSERT INTO Clinic\n",
    "    VALUES \n",
    "    (\"c001\", \"Pethealth\", \"123 Baker St\", \"3051234567\"),\n",
    "    (\"c002\", \"Petsrus\", \"119 Douglas Ave\", \"3051237890\"),\n",
    "    (\"c003\", \"Paws\", \"200 Bark Lane\", \"3054567899\"),\n",
    "    (\"c004\", \"Howlclinic\", \"650 Forest Ave\", \"3054442345\"),\n",
    "    (\"c005\", \"Healthypets\", \"300 Woodland Drive\", \"3051234789\")\n",
    "    ;\n",
    "    \"\"\"\n",
    "cursor.execute(query_clinic)"
   ]
  },
  {
   "cell_type": "code",
   "execution_count": 7,
   "id": "1838d84f",
   "metadata": {},
   "outputs": [
    {
     "data": {
      "text/plain": [
       "<sqlite3.Cursor at 0x2a89a584570>"
      ]
     },
     "execution_count": 7,
     "metadata": {},
     "output_type": "execute_result"
    }
   ],
   "source": [
    "# Insert row into table Staff\n",
    "query_staff = \"\"\"\n",
    "    INSERT INTO Staff\n",
    "    VALUES \n",
    "    (\"emp001\", \"John Smith\", \"233 Vail Rd\", \"7862344567\", \"12-Dec-1970\", \"Manager\", \"37000\", \"c001\"),\n",
    "    (\"emp002\", \"Jane Doe\", \"445 Colorado St\", \"3053337890\", \"14-Jun-1978\", \"Sr. Medical Assistant\", \"36000\", \"c002\"),\n",
    "    (\"emp003\", \"Tom Hanks\", \"601 Utah Ave\", \"3054422899\", \"04-Jul-1965\", \"Sr. Technician\", \"42000\", \"c003\"),\n",
    "    (\"emp004\", \"Jane Austen\", \"9875 Foothill Dr\", \"3051214445\", \"03-Feb-1980\", \"Technician\", \"36000\", \"c003\"),\n",
    "    (\"emp005\", \"Enid Blyton\", \"112 Iowa St\", \"7861234890\", \"08-Aug-1985\", \"Surgeon\", \"75000\", \"c004\"),\n",
    "    (\"emp006\", \"David Blake\", \"100 Pearson St\", \"3051112222\", \"18-Aug-1965\", \"Manager\", \"78000\", \"c005\")\n",
    "    ;\n",
    "    \"\"\"\n",
    "cursor.execute(query_staff)"
   ]
  },
  {
   "cell_type": "code",
   "execution_count": 8,
   "id": "52a2f105",
   "metadata": {},
   "outputs": [
    {
     "data": {
      "text/plain": [
       "<sqlite3.Cursor at 0x2a89a584570>"
      ]
     },
     "execution_count": 8,
     "metadata": {},
     "output_type": "execute_result"
    }
   ],
   "source": [
    "# Insert row into table PetOwner\n",
    "query_owner = \"\"\"\n",
    "    INSERT INTO PetOwner\n",
    "    VALUES \n",
    "    (\"own1\", \"Jack Smith\", \"410 Park St\", \"7861245600\", \"c001\"),\n",
    "    (\"own2\", \"Thomas Jefferson\", \"325 Minorca Ave\", \"7865557890\", \"c002\"),\n",
    "    (\"own3\", \"Teddy Roosevelt\", \"546 Gables Lane\", \"3051112222\", \"c002\"),\n",
    "    (\"own4\", \"John Marshall\", \"980 Miami Ave\", \"3053337777\", \"c003\"),\n",
    "    (\"own5\", \"Hilary Clinton\", \"311 Lewis Rd\", \"3054446666\", \"c005\"),\n",
    "    (\"own6\", \"Elena Monsoon\", \"555 Privet Rd\", \"3052340990\", \"c004\")\n",
    "    ;\n",
    "    \"\"\"\n",
    "cursor.execute(query_owner)"
   ]
  },
  {
   "cell_type": "code",
   "execution_count": 9,
   "id": "d0890eea",
   "metadata": {},
   "outputs": [
    {
     "data": {
      "text/plain": [
       "<sqlite3.Cursor at 0x2a89a584570>"
      ]
     },
     "execution_count": 9,
     "metadata": {},
     "output_type": "execute_result"
    }
   ],
   "source": [
    "# Insert row into table Pet\n",
    "query_pet = \"\"\"\n",
    "    INSERT INTO Pet\n",
    "    VALUES \n",
    "    (\"p1\", \"Tim\", \"09-Feb-2021\", \"Dog\", \"Labrador\", \"white\", \"own1\", \"c001\"),\n",
    "    (\"p2\", \"Bella\", \"10-Mar-2022\", \"Cat\", \"Mix\", \"black\", \"own6\", \"c002\"),\n",
    "    (\"p3\", \"Rufus\", \"03-Apr-2021\", \"Dog\", \"Labrador\", \"black\", \"own2\", \"c002\"),\n",
    "    (\"p4\", \"Tipsy\", \"09-May-2020\", \"Dog\", \"Labrador\", \"brown\", \"own4\", \"c003\"),\n",
    "    (\"p5\", \"Barky\", \"07-May-2019\", \"Dog\", \"Poodle\", \"white\", \"own3\", \"c005\"),\n",
    "    (\"p6\", \"Maggie\", \"06-Jun-2022\", \"Parrot\", \"Tropical\", \"red\", \"own5\", \"c004\")\n",
    "    ;\n",
    "    \"\"\"\n",
    "cursor.execute(query_pet)"
   ]
  },
  {
   "cell_type": "code",
   "execution_count": 10,
   "id": "af4204ab",
   "metadata": {},
   "outputs": [
    {
     "data": {
      "text/plain": [
       "<sqlite3.Cursor at 0x2a89a584570>"
      ]
     },
     "execution_count": 10,
     "metadata": {},
     "output_type": "execute_result"
    }
   ],
   "source": [
    "# Insert row into table Examination\n",
    "query_exam = \"\"\"\n",
    "    INSERT INTO Examination\n",
    "    VALUES \n",
    "    (\"ex01\", \"fleas\", \"moderate\", \"05-Nov-2022\", \"oral medicine\", \"p1\", \"emp003\"),\n",
    "    (\"ex02\", \"fleas\", \"mild\", \"05-Dec-2022\", \"oral medicine\", \"p2\", \"emp002\"),\n",
    "    (\"ex03\", \"fleas\", \"mild\", \"07-Nov-2022\", \"oral medicine\", \"p3\", \"emp002\"),\n",
    "    (\"ex04\", \"fracture\", \"right paw\", \"08-Nov-2022\", \"cast\", \"p4\", \"emp003\"),\n",
    "    (\"ex05\", \"fracture\", \"right paw\", \"09-Nov-2022\", \"cast\", \"p5\", \"emp003\"),\n",
    "    (\"ex06\", \"winginjury\", \"left wing\", \"01-Dec-2022\", \"surgery\", \"p6\", \"emp004\")\n",
    "    ;\n",
    "    \"\"\"\n",
    "cursor.execute(query_exam)"
   ]
  },
  {
   "cell_type": "code",
   "execution_count": 11,
   "id": "ab4cd27d",
   "metadata": {},
   "outputs": [
    {
     "name": "stdout",
     "output_type": "stream",
     "text": [
      "  clinicNo        cName            cAddress      cPhone\n",
      "0     c001    Pethealth        123 Baker St  3051234567\n",
      "1     c002      Petsrus     119 Douglas Ave  3051237890\n",
      "2     c003         Paws       200 Bark Lane  3054567899\n",
      "3     c004   Howlclinic      650 Forest Ave  3054442345\n",
      "4     c005  Healthypets  300 Woodland Drive  3051234789\n",
      "Index(['clinicNo', 'cName', 'cAddress', 'cPhone'], dtype='object')\n"
     ]
    }
   ],
   "source": [
    "#Steps to select data from tables and read into a Pandas dataframe\n",
    "# Select data\n",
    "query = \"\"\"\n",
    "    SELECT *\n",
    "    FROM Clinic\n",
    "    \"\"\"\n",
    "cursor.execute(query)\n",
    "\n",
    "# Extract column names from cursor\n",
    "column_names = [row[0] for row in cursor.description]\n",
    "\n",
    "# Fetch data and load into a pandas dataframe\n",
    "clinic_data = cursor.fetchall()\n",
    "df1 = pd.DataFrame(clinic_data, columns=column_names)\n",
    "\n",
    "# Examine dataframe\n",
    "print(df1)\n",
    "print(df1.columns)"
   ]
  },
  {
   "cell_type": "code",
   "execution_count": 12,
   "id": "c5da4340",
   "metadata": {},
   "outputs": [
    {
     "name": "stdout",
     "output_type": "stream",
     "text": [
      "  staffNo        sName          sAddress      sPhone         sDOB  \\\n",
      "0  emp001   John Smith       233 Vail Rd  7862344567  12-Dec-1970   \n",
      "1  emp002     Jane Doe   445 Colorado St  3053337890  14-Jun-1978   \n",
      "2  emp003    Tom Hanks      601 Utah Ave  3054422899  04-Jul-1965   \n",
      "3  emp004  Jane Austen  9875 Foothill Dr  3051214445  03-Feb-1980   \n",
      "4  emp005  Enid Blyton       112 Iowa St  7861234890  08-Aug-1985   \n",
      "5  emp006  David Blake    100 Pearson St  3051112222  18-Aug-1965   \n",
      "\n",
      "               sPosition  salary clinicNo  \n",
      "0                Manager   37000     c001  \n",
      "1  Sr. Medical Assistant   36000     c002  \n",
      "2         Sr. Technician   42000     c003  \n",
      "3             Technician   36000     c003  \n",
      "4                Surgeon   75000     c004  \n",
      "5                Manager   78000     c005  \n",
      "Index(['staffNo', 'sName', 'sAddress', 'sPhone', 'sDOB', 'sPosition', 'salary',\n",
      "       'clinicNo'],\n",
      "      dtype='object')\n"
     ]
    }
   ],
   "source": [
    "# Select data\n",
    "query = \"\"\"\n",
    "    SELECT *\n",
    "    FROM Staff\n",
    "    \"\"\"\n",
    "cursor.execute(query)\n",
    "\n",
    "# Extract column names from cursor\n",
    "column_names = [row[0] for row in cursor.description]\n",
    "\n",
    "# Fetch data and load into a pandas dataframe\n",
    "staff_data = cursor.fetchall()\n",
    "df2 = pd.DataFrame(staff_data, columns=column_names)\n",
    "\n",
    "# Examine dataframe\n",
    "print(df2)\n",
    "print(df2.columns)"
   ]
  },
  {
   "cell_type": "code",
   "execution_count": 13,
   "id": "dfd82760",
   "metadata": {},
   "outputs": [
    {
     "name": "stdout",
     "output_type": "stream",
     "text": [
      "  ownerNo             oName         oAddress      oPhone clinicNo\n",
      "0    own1        Jack Smith      410 Park St  7861245600     c001\n",
      "1    own2  Thomas Jefferson  325 Minorca Ave  7865557890     c002\n",
      "2    own3   Teddy Roosevelt  546 Gables Lane  3051112222     c002\n",
      "3    own4     John Marshall    980 Miami Ave  3053337777     c003\n",
      "4    own5    Hilary Clinton     311 Lewis Rd  3054446666     c005\n",
      "5    own6     Elena Monsoon    555 Privet Rd  3052340990     c004\n",
      "Index(['ownerNo', 'oName', 'oAddress', 'oPhone', 'clinicNo'], dtype='object')\n"
     ]
    }
   ],
   "source": [
    "# Select data\n",
    "query = \"\"\"\n",
    "    SELECT *\n",
    "    FROM PetOwner\n",
    "    \"\"\"\n",
    "cursor.execute(query)\n",
    "\n",
    "# Extract column names from cursor\n",
    "column_names = [row[0] for row in cursor.description]\n",
    "\n",
    "# Fetch data and load into a pandas dataframe\n",
    "owner_data = cursor.fetchall()\n",
    "df3 = pd.DataFrame(owner_data, columns=column_names)\n",
    "\n",
    "# Examine dataframe\n",
    "print(df3)\n",
    "print(df3.columns)"
   ]
  },
  {
   "cell_type": "code",
   "execution_count": 14,
   "id": "dffea9c2",
   "metadata": {},
   "outputs": [
    {
     "name": "stdout",
     "output_type": "stream",
     "text": [
      "  petNo   pName         pDOB pSpecies    pBreed pColor ownerNo clinicNo\n",
      "0    p1     Tim  09-Feb-2021      Dog  Labrador  white    own1     c001\n",
      "1    p2   Bella  10-Mar-2022      Cat       Mix  black    own6     c002\n",
      "2    p3   Rufus  03-Apr-2021      Dog  Labrador  black    own2     c002\n",
      "3    p4   Tipsy  09-May-2020      Dog  Labrador  brown    own4     c003\n",
      "4    p5   Barky  07-May-2019      Dog    Poodle  white    own3     c005\n",
      "5    p6  Maggie  06-Jun-2022   Parrot  Tropical    red    own5     c004\n",
      "Index(['petNo', 'pName', 'pDOB', 'pSpecies', 'pBreed', 'pColor', 'ownerNo',\n",
      "       'clinicNo'],\n",
      "      dtype='object')\n"
     ]
    }
   ],
   "source": [
    "# Select data\n",
    "query = \"\"\"\n",
    "    SELECT *\n",
    "    FROM Pet\n",
    "    \"\"\"\n",
    "cursor.execute(query)\n",
    "\n",
    "# Extract column names from cursor\n",
    "column_names = [row[0] for row in cursor.description]\n",
    "\n",
    "# Fetch data and load into a pandas dataframe\n",
    "pet_data = cursor.fetchall()\n",
    "df4 = pd.DataFrame(pet_data, columns=column_names)\n",
    "\n",
    "# Examine dataframe\n",
    "print(df4)\n",
    "print(df4.columns)"
   ]
  },
  {
   "cell_type": "code",
   "execution_count": 15,
   "id": "df10a2fb",
   "metadata": {},
   "outputs": [
    {
     "name": "stdout",
     "output_type": "stream",
     "text": [
      "  examNo   complaint description         date         action petNo staffNo\n",
      "0   ex01       fleas    moderate  05-Nov-2022  oral medicine    p1  emp003\n",
      "1   ex02       fleas        mild  05-Dec-2022  oral medicine    p2  emp002\n",
      "2   ex03       fleas        mild  07-Nov-2022  oral medicine    p3  emp002\n",
      "3   ex04    fracture   right paw  08-Nov-2022           cast    p4  emp003\n",
      "4   ex05    fracture   right paw  09-Nov-2022           cast    p5  emp003\n",
      "5   ex06  winginjury   left wing  01-Dec-2022        surgery    p6  emp004\n",
      "Index(['examNo', 'complaint', 'description', 'date', 'action', 'petNo',\n",
      "       'staffNo'],\n",
      "      dtype='object')\n"
     ]
    }
   ],
   "source": [
    "# Select data\n",
    "query = \"\"\"\n",
    "    SELECT *\n",
    "    FROM Examination\n",
    "    \"\"\"\n",
    "cursor.execute(query)\n",
    "\n",
    "# Extract column names from cursor\n",
    "column_names = [row[0] for row in cursor.description]\n",
    "\n",
    "# Fetch data and load into a pandas dataframe\n",
    "exam_data = cursor.fetchall()\n",
    "df5 = pd.DataFrame(exam_data, columns=column_names)\n",
    "\n",
    "# Examine dataframe\n",
    "print(df5)\n",
    "print(df5.columns)"
   ]
  },
  {
   "cell_type": "code",
   "execution_count": 16,
   "id": "7a2fc79b",
   "metadata": {},
   "outputs": [],
   "source": [
    "# Commit any changes to the database\n",
    "db_connect.commit()"
   ]
  },
  {
   "cell_type": "code",
   "execution_count": 17,
   "id": "ca80b0ea",
   "metadata": {},
   "outputs": [
    {
     "name": "stdout",
     "output_type": "stream",
     "text": [
      "  staffNo        sName          sAddress      sPhone         sDOB  \\\n",
      "0  emp003    Tom Hanks      601 Utah Ave  3054422899  04-Jul-1965   \n",
      "1  emp004  Jane Austen  9875 Foothill Dr  3051214445  03-Feb-1980   \n",
      "\n",
      "        sPosition  salary clinicNo  \n",
      "0  Sr. Technician   42000     c003  \n",
      "1      Technician   36000     c003  \n"
     ]
    }
   ],
   "source": [
    "#Execute five SQL queries from  data in petsclinic database\n",
    "\n",
    "#Example Query 1: List all staff who work at clinic c003\n",
    "query1 = \"\"\"\n",
    "    SELECT *\n",
    "    FROM Staff\n",
    "    WHERE clinicNo = \"c003\"\n",
    "    \"\"\"\n",
    "cursor.execute(query1)\n",
    "column_names = [row[0] for row in cursor.description]\n",
    "result = cursor.fetchall()\n",
    "df1 = pd.DataFrame(result, columns=column_names)\n",
    "print(df1)\n"
   ]
  },
  {
   "cell_type": "code",
   "execution_count": 18,
   "id": "e8bb84f1",
   "metadata": {},
   "outputs": [
    {
     "name": "stdout",
     "output_type": "stream",
     "text": [
      "  examNo complaint description         date         action petNo staffNo\n",
      "0   ex02     fleas        mild  05-Dec-2022  oral medicine    p2  emp002\n",
      "1   ex03     fleas        mild  07-Nov-2022  oral medicine    p3  emp002\n"
     ]
    }
   ],
   "source": [
    "#Example Query 2: List details of the examination performed by a staff member\n",
    "query2 = \"\"\"\n",
    "    SELECT *\n",
    "    FROM Examination\n",
    "    WHERE staffNo = \"emp002\"\n",
    "    \"\"\"\n",
    "cursor.execute(query2)\n",
    "column_names = [row[0] for row in cursor.description]\n",
    "result = cursor.fetchall()\n",
    "df2 = pd.DataFrame(result, columns=column_names)\n",
    "print(df2)\n"
   ]
  },
  {
   "cell_type": "code",
   "execution_count": 19,
   "id": "2380c3a3",
   "metadata": {},
   "outputs": [
    {
     "name": "stdout",
     "output_type": "stream",
     "text": [
      "  pSpecies    pBreed\n",
      "0      Cat       Mix\n",
      "1      Dog  Labrador\n"
     ]
    }
   ],
   "source": [
    "#Example Query 3: List the pet species and breeds by clinic\n",
    "query3 = \"\"\"\n",
    "    SELECT pSpecies, pBreed\n",
    "    FROM Pet\n",
    "    WHERE clinicNo = \"c002\"\n",
    "    \"\"\"\n",
    "cursor.execute(query3)\n",
    "column_names = [row[0] for row in cursor.description]\n",
    "result = cursor.fetchall()\n",
    "df3 = pd.DataFrame(result, columns=column_names)\n",
    "print(df3)\n"
   ]
  },
  {
   "cell_type": "code",
   "execution_count": 20,
   "id": "8e038f73",
   "metadata": {},
   "outputs": [
    {
     "name": "stdout",
     "output_type": "stream",
     "text": [
      "  examNo complaint description         date         action petNo staffNo\n",
      "0   ex01     fleas    moderate  05-Nov-2022  oral medicine    p1  emp003\n"
     ]
    }
   ],
   "source": [
    "#Example Query 4: List exam details performed on pet p1\n",
    "query4 = \"\"\"\n",
    "    SELECT *\n",
    "    FROM Examination\n",
    "    WHERE petNo = \"p1\"\n",
    "    \"\"\"\n",
    "cursor.execute(query4)\n",
    "column_names = [row[0] for row in cursor.description]\n",
    "result = cursor.fetchall()\n",
    "df4 = pd.DataFrame(result, columns=column_names)\n",
    "print(df4)\n"
   ]
  },
  {
   "cell_type": "code",
   "execution_count": 21,
   "id": "2c0fafed",
   "metadata": {},
   "outputs": [
    {
     "name": "stdout",
     "output_type": "stream",
     "text": [
      "  staffNo        sName        sAddress      sPhone         sDOB sPosition  \\\n",
      "0  emp001   John Smith     233 Vail Rd  7862344567  12-Dec-1970   Manager   \n",
      "1  emp006  David Blake  100 Pearson St  3051112222  18-Aug-1965   Manager   \n",
      "\n",
      "   salary clinicNo  \n",
      "0   37000     c001  \n",
      "1   78000     c005  \n"
     ]
    }
   ],
   "source": [
    "#Example Query 5: List details of all the clinic managers \n",
    "query5 = \"\"\"\n",
    "    SELECT *\n",
    "    FROM Staff\n",
    "    WHERE sPosition = \"Manager\"\n",
    "    \"\"\"\n",
    "cursor.execute(query5)\n",
    "column_names = [row[0] for row in cursor.description]\n",
    "result = cursor.fetchall()\n",
    "df5 = pd.DataFrame(result, columns=column_names)\n",
    "print(df5)\n"
   ]
  },
  {
   "cell_type": "code",
   "execution_count": 22,
   "id": "2ebf4be5",
   "metadata": {},
   "outputs": [],
   "source": [
    "db_connect.close()"
   ]
  },
  {
   "cell_type": "code",
   "execution_count": null,
   "id": "c96d5ec4",
   "metadata": {},
   "outputs": [],
   "source": []
  }
 ],
 "metadata": {
  "kernelspec": {
   "display_name": "Python 3 (ipykernel)",
   "language": "python",
   "name": "python3"
  },
  "language_info": {
   "codemirror_mode": {
    "name": "ipython",
    "version": 3
   },
   "file_extension": ".py",
   "mimetype": "text/x-python",
   "name": "python",
   "nbconvert_exporter": "python",
   "pygments_lexer": "ipython3",
   "version": "3.9.7"
  }
 },
 "nbformat": 4,
 "nbformat_minor": 5
}
